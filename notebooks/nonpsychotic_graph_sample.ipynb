{
 "cells": [
  {
   "cell_type": "code",
   "execution_count": 1,
   "metadata": {},
   "outputs": [],
   "source": [
    "import pickle"
   ]
  },
  {
   "cell_type": "code",
   "execution_count": 2,
   "metadata": {},
   "outputs": [],
   "source": [
    "with open(\"../data/nonpsychotic_posts.pickle\", \"rb\") as p:\n",
    "    nonpsychotic_posts = pickle.load(p)"
   ]
  },
  {
   "cell_type": "code",
   "execution_count": 3,
   "metadata": {},
   "outputs": [
    {
     "data": {
      "text/plain": [
       "21"
      ]
     },
     "execution_count": 3,
     "metadata": {},
     "output_type": "execute_result"
    }
   ],
   "source": [
    "len(list(nonpsychotic_posts.items())[0][1])"
   ]
  },
  {
   "cell_type": "code",
   "execution_count": 4,
   "metadata": {},
   "outputs": [],
   "source": [
    "nonpsychotic_sample = list(nonpsychotic_posts.items())[0][1][10][\"text\"].lower()"
   ]
  },
  {
   "cell_type": "code",
   "execution_count": 5,
   "metadata": {},
   "outputs": [
    {
     "name": "stdout",
     "output_type": "stream",
     "text": [
      "if it is a voluntary hierarchy then it doesn't have to be useful. all of the participants have to agree to be a part of and follow it. anarchism is all about \"contracts\", and consent.\n",
      "\n",
      "if you are a muslim by your own will then the hierarchy of your religion is not inherently antagonistic with anarchism.\n"
     ]
    }
   ],
   "source": [
    "print(nonpsychotic_sample)"
   ]
  },
  {
   "cell_type": "code",
   "execution_count": 6,
   "metadata": {},
   "outputs": [
    {
     "name": "stderr",
     "output_type": "stream",
     "text": [
      "/home/rain/Documents/GRIS/venv/lib/python3.10/site-packages/tqdm/auto.py:22: TqdmWarning: IProgress not found. Please update jupyter and ipywidgets. See https://ipywidgets.readthedocs.io/en/stable/user_install.html\n",
      "  from .autonotebook import tqdm as notebook_tqdm\n"
     ]
    }
   ],
   "source": [
    "import os\n",
    "import stanza\n",
    "from stanza.server import CoreNLPClient"
   ]
  },
  {
   "cell_type": "code",
   "execution_count": 7,
   "metadata": {},
   "outputs": [],
   "source": [
    "os.environ[\"CORENLP_HOME\"] = \"/home/rain/.stanfordnlp_resources/stanford-corenlp-4.1.0\""
   ]
  },
  {
   "cell_type": "code",
   "execution_count": 8,
   "metadata": {},
   "outputs": [
    {
     "name": "stderr",
     "output_type": "stream",
     "text": [
      "2022-07-31 16:55:23 INFO: Writing properties to tmp file: corenlp_server-18be9a43cb2a4028.props\n",
      "2022-07-31 16:55:23 INFO: Starting server with command: java -Xmx5G -cp /home/rain/.stanfordnlp_resources/stanford-corenlp-4.1.0/* edu.stanford.nlp.pipeline.StanfordCoreNLPServer -port 1234 -timeout 150000000 -threads 5 -maxCharLength 100000 -quiet True -serverProperties corenlp_server-18be9a43cb2a4028.props -annotators openie -preload -outputFormat serialized\n"
     ]
    }
   ],
   "source": [
    "client = CoreNLPClient(timeout=150000000, be_quiet=True, annotators=['openie'], endpoint='http://localhost:1234')\n",
    "client.start()\n",
    "doc = client.annotate(nonpsychotic_sample, output_format=\"json\")\n",
    "triples = []\n",
    "for sentence in doc['sentences']:\n",
    "    for triple in sentence['openie']:\n",
    "        triples.append({\n",
    "           'subject': triple['subject'],\n",
    "           'relation': triple['relation'],\n",
    "            'object': triple['object']\n",
    "        })\n",
    "client.stop()"
   ]
  },
  {
   "cell_type": "code",
   "execution_count": 9,
   "metadata": {},
   "outputs": [],
   "source": [
    "import networkx as nx\n",
    "import matplotlib.pyplot as plt"
   ]
  },
  {
   "cell_type": "code",
   "execution_count": 10,
   "metadata": {},
   "outputs": [],
   "source": [
    "g = nx.DiGraph()\n",
    "for triplet in triples:\n",
    "    g.add_edge(triplet[\"subject\"], triplet[\"object\"], relation=triplet[\"relation\"])"
   ]
  },
  {
   "cell_type": "code",
   "execution_count": 11,
   "metadata": {},
   "outputs": [
    {
     "data": {
      "image/png": "[encoded data removed]",
      "text/plain": [
       "<Figure size 432x288 with 1 Axes>"
      ]
     },
     "metadata": {},
     "output_type": "display_data"
    }
   ],
   "source": [
    "nx.draw(g, with_labels=True, node_color='skyblue', edge_cmap=plt.cm.Blues)"
   ]
  },
  {
   "cell_type": "code",
   "execution_count": 11,
   "metadata": {},
   "outputs": [
    {
     "data": {
      "text/plain": [
       "NodeView(())"
      ]
     },
     "execution_count": 11,
     "metadata": {},
     "output_type": "execute_result"
    }
   ],
   "source": [
    "g.nodes"
   ]
  },
  {
   "cell_type": "code",
   "execution_count": 12,
   "metadata": {},
   "outputs": [
    {
     "data": {
      "text/plain": [
       "OutEdgeView([])"
      ]
     },
     "execution_count": 12,
     "metadata": {},
     "output_type": "execute_result"
    }
   ],
   "source": [
    "g.edges"
   ]
  },
  {
   "cell_type": "code",
   "execution_count": 13,
   "metadata": {},
   "outputs": [],
   "source": [
    "for relation in g.edges.data(\"relation\"):\n",
    "    print(relation)"
   ]
  },
  {
   "cell_type": "code",
   "execution_count": 14,
   "metadata": {},
   "outputs": [
    {
     "ename": "NetworkXPointlessConcept",
     "evalue": "Connectivity is undefined for the null graph.",
     "output_type": "error",
     "traceback": [
      "\u001b[0;31m---------------------------------------------------------------------------\u001b[0m",
      "\u001b[0;31mNetworkXPointlessConcept\u001b[0m                  Traceback (most recent call last)",
      "\u001b[1;32m/home/rain/Documents/GRIS/notebooks/nonpsychotic_graph_sample.ipynb Cell 14'\u001b[0m in \u001b[0;36m<cell line: 1>\u001b[0;34m()\u001b[0m\n\u001b[0;32m----> <a href='vscode-notebook-cell:/home/rain/Documents/GRIS/notebooks/nonpsychotic_graph_sample.ipynb#ch0000013?line=0'>1</a>\u001b[0m nx\u001b[39m.\u001b[39;49mnode_connectivity(g)\n",
      "File \u001b[0;32m~/Documents/GRIS/venv/lib/python3.10/site-packages/networkx/algorithms/connectivity/connectivity.py:317\u001b[0m, in \u001b[0;36mnode_connectivity\u001b[0;34m(G, s, t, flow_func)\u001b[0m\n\u001b[1;32m    315\u001b[0m \u001b[39m# Global node connectivity\u001b[39;00m\n\u001b[1;32m    316\u001b[0m \u001b[39mif\u001b[39;00m G\u001b[39m.\u001b[39mis_directed():\n\u001b[0;32m--> 317\u001b[0m     \u001b[39mif\u001b[39;00m \u001b[39mnot\u001b[39;00m nx\u001b[39m.\u001b[39;49mis_weakly_connected(G):\n\u001b[1;32m    318\u001b[0m         \u001b[39mreturn\u001b[39;00m \u001b[39m0\u001b[39m\n\u001b[1;32m    319\u001b[0m     iter_func \u001b[39m=\u001b[39m itertools\u001b[39m.\u001b[39mpermutations\n",
      "File \u001b[0;32m~/Documents/GRIS/venv/lib/python3.10/site-packages/networkx/utils/decorators.py:845\u001b[0m, in \u001b[0;36margmap.__call__.<locals>.func\u001b[0;34m(_argmap__wrapper, *args, **kwargs)\u001b[0m\n\u001b[1;32m    844\u001b[0m \u001b[39mdef\u001b[39;00m \u001b[39mfunc\u001b[39m(\u001b[39m*\u001b[39margs, __wrapper\u001b[39m=\u001b[39m\u001b[39mNone\u001b[39;00m, \u001b[39m*\u001b[39m\u001b[39m*\u001b[39mkwargs):\n\u001b[0;32m--> 845\u001b[0m     \u001b[39mreturn\u001b[39;00m argmap\u001b[39m.\u001b[39;49m_lazy_compile(__wrapper)(\u001b[39m*\u001b[39;49margs, \u001b[39m*\u001b[39;49m\u001b[39m*\u001b[39;49mkwargs)\n",
      "File \u001b[0;32m<class 'networkx.utils.decorators.argmap'> compilation 8:4\u001b[0m, in \u001b[0;36margmap_is_weakly_connected_5\u001b[0;34m(G)\u001b[0m\n\u001b[1;32m      2\u001b[0m \u001b[39mimport\u001b[39;00m \u001b[39mcollections\u001b[39;00m\n\u001b[1;32m      3\u001b[0m \u001b[39mimport\u001b[39;00m \u001b[39mgzip\u001b[39;00m\n\u001b[0;32m----> 4\u001b[0m \u001b[39mimport\u001b[39;00m \u001b[39minspect\u001b[39;00m\n\u001b[1;32m      5\u001b[0m \u001b[39mimport\u001b[39;00m \u001b[39mitertools\u001b[39;00m\n\u001b[1;32m      6\u001b[0m \u001b[39mimport\u001b[39;00m \u001b[39mre\u001b[39;00m\n",
      "File \u001b[0;32m~/Documents/GRIS/venv/lib/python3.10/site-packages/networkx/algorithms/components/weakly_connected.py:156\u001b[0m, in \u001b[0;36mis_weakly_connected\u001b[0;34m(G)\u001b[0m\n\u001b[1;32m    108\u001b[0m \u001b[39m\"\"\"Test directed graph for weak connectivity.\u001b[39;00m\n\u001b[1;32m    109\u001b[0m \n\u001b[1;32m    110\u001b[0m \u001b[39mA directed graph is weakly connected if and only if the graph\u001b[39;00m\n\u001b[0;32m   (...)\u001b[0m\n\u001b[1;32m    153\u001b[0m \n\u001b[1;32m    154\u001b[0m \u001b[39m\"\"\"\u001b[39;00m\n\u001b[1;32m    155\u001b[0m \u001b[39mif\u001b[39;00m \u001b[39mlen\u001b[39m(G) \u001b[39m==\u001b[39m \u001b[39m0\u001b[39m:\n\u001b[0;32m--> 156\u001b[0m     \u001b[39mraise\u001b[39;00m nx\u001b[39m.\u001b[39mNetworkXPointlessConcept(\n\u001b[1;32m    157\u001b[0m         \u001b[39m\"\"\"Connectivity is undefined for the null graph.\"\"\"\u001b[39;00m\n\u001b[1;32m    158\u001b[0m     )\n\u001b[1;32m    160\u001b[0m \u001b[39mreturn\u001b[39;00m \u001b[39mlen\u001b[39m(\u001b[39mnext\u001b[39m(weakly_connected_components(G))) \u001b[39m==\u001b[39m \u001b[39mlen\u001b[39m(G)\n",
      "\u001b[0;31mNetworkXPointlessConcept\u001b[0m: Connectivity is undefined for the null graph."
     ]
    }
   ],
   "source": [
    "nx.node_connectivity(g)"
   ]
  },
  {
   "cell_type": "code",
   "execution_count": null,
   "metadata": {},
   "outputs": [
    {
     "data": {
      "text/plain": [
       "3"
      ]
     },
     "execution_count": 15,
     "metadata": {},
     "output_type": "execute_result"
    }
   ],
   "source": [
    "nx.number_connected_components(g.to_undirected())"
   ]
  },
  {
   "cell_type": "code",
   "execution_count": null,
   "metadata": {},
   "outputs": [
    {
     "data": {
      "text/plain": [
       "7"
      ]
     },
     "execution_count": 16,
     "metadata": {},
     "output_type": "execute_result"
    }
   ],
   "source": [
    "nx.number_strongly_connected_components(g)"
   ]
  },
  {
   "cell_type": "code",
   "execution_count": null,
   "metadata": {},
   "outputs": [
    {
     "data": {
      "text/plain": [
       "3"
      ]
     },
     "execution_count": 17,
     "metadata": {},
     "output_type": "execute_result"
    }
   ],
   "source": [
    "nx.number_weakly_connected_components(g)"
   ]
  },
  {
   "cell_type": "code",
   "execution_count": null,
   "metadata": {},
   "outputs": [
    {
     "name": "stdout",
     "output_type": "stream",
     "text": [
      "rotation: 0.16666666666666666\n",
      "them: 0.16666666666666666\n",
      "they: 0.3333333333333333\n",
      "stresses: 0.16666666666666666\n",
      "stresses of turning: 0.16666666666666666\n",
      "alignment: 0.16666666666666666\n",
      "it: 0.16666666666666666\n"
     ]
    }
   ],
   "source": [
    "degree_centrality = nx.degree_centrality(g)\n",
    "for k, v in degree_centrality.items():\n",
    "    print(f\"{k}: {v}\")"
   ]
  },
  {
   "cell_type": "code",
   "execution_count": null,
   "metadata": {},
   "outputs": [
    {
     "name": "stdout",
     "output_type": "stream",
     "text": [
      "Average degree centrality: 0.19047619047619047\n"
     ]
    }
   ],
   "source": [
    "avg_degree_centrality = sum(list(degree_centrality.values())) / len(list(degree_centrality.values()))\n",
    "print(f\"Average degree centrality: {avg_degree_centrality}\")"
   ]
  },
  {
   "cell_type": "code",
   "execution_count": null,
   "metadata": {},
   "outputs": [
    {
     "name": "stdout",
     "output_type": "stream",
     "text": [
      "rotation: 0.0\n",
      "them: 0.16666666666666666\n",
      "they: 0.0\n",
      "stresses: 0.16666666666666666\n",
      "stresses of turning: 0.16666666666666666\n",
      "alignment: 0.0\n",
      "it: 0.16666666666666666\n"
     ]
    }
   ],
   "source": [
    "in_degree_centrality = nx.in_degree_centrality(g)\n",
    "for k, v in in_degree_centrality.items():\n",
    "    print(f\"{k}: {v}\")"
   ]
  },
  {
   "cell_type": "code",
   "execution_count": null,
   "metadata": {},
   "outputs": [
    {
     "name": "stdout",
     "output_type": "stream",
     "text": [
      "Average in degree centrality: 0.09523809523809523\n"
     ]
    }
   ],
   "source": [
    "avg_in_degree_centrality = sum(list(in_degree_centrality.values())) / len(list(in_degree_centrality.values()))\n",
    "print(f\"Average in degree centrality: {avg_in_degree_centrality}\")"
   ]
  },
  {
   "cell_type": "code",
   "execution_count": null,
   "metadata": {},
   "outputs": [
    {
     "name": "stdout",
     "output_type": "stream",
     "text": [
      "rotation: 0.16666666666666666\n",
      "them: 0.0\n",
      "they: 0.3333333333333333\n",
      "stresses: 0.0\n",
      "stresses of turning: 0.0\n",
      "alignment: 0.16666666666666666\n",
      "it: 0.0\n"
     ]
    }
   ],
   "source": [
    "out_degree_centrality = nx.out_degree_centrality(g)\n",
    "for k, v in out_degree_centrality.items():\n",
    "    print(f\"{k}: {v}\")"
   ]
  },
  {
   "cell_type": "code",
   "execution_count": null,
   "metadata": {},
   "outputs": [
    {
     "name": "stdout",
     "output_type": "stream",
     "text": [
      "Average out degree centrality: 0.09523809523809523\n"
     ]
    }
   ],
   "source": [
    "avg_out_degree_centrality = sum(list(out_degree_centrality.values())) / len(list(out_degree_centrality.values()))\n",
    "print(f\"Average out degree centrality: {avg_out_degree_centrality}\")"
   ]
  },
  {
   "cell_type": "code",
   "execution_count": null,
   "metadata": {},
   "outputs": [
    {
     "name": "stdout",
     "output_type": "stream",
     "text": [
      "rotation: 0.001077584329974678\n",
      "them: 0.49999912910825034\n",
      "they: 0.001077584329974678\n",
      "stresses: 0.49999912910825034\n",
      "stresses of turning: 0.49999912910825034\n",
      "alignment: 0.001077584329974678\n",
      "it: 0.49999912910825034\n"
     ]
    }
   ],
   "source": [
    "eigen = nx.eigenvector_centrality(g, max_iter=2000)\n",
    "for k, v in eigen.items():\n",
    "    print(f\"{k}: {v}\")"
   ]
  },
  {
   "cell_type": "code",
   "execution_count": null,
   "metadata": {},
   "outputs": [
    {
     "name": "stdout",
     "output_type": "stream",
     "text": [
      "Average eigenvector centrality: 0.2861756099175608\n"
     ]
    }
   ],
   "source": [
    "avg_eigen = sum(list(eigen.values())) / len(list(eigen.values()))\n",
    "print(f\"Average eigenvector centrality: {avg_eigen}\")"
   ]
  },
  {
   "cell_type": "code",
   "execution_count": null,
   "metadata": {},
   "outputs": [
    {
     "name": "stdout",
     "output_type": "stream",
     "text": [
      "rotation: 0.0\n",
      "them: 0.16666666666666666\n",
      "they: 0.0\n",
      "stresses: 0.16666666666666666\n",
      "stresses of turning: 0.16666666666666666\n",
      "alignment: 0.0\n",
      "it: 0.16666666666666666\n"
     ]
    }
   ],
   "source": [
    "closeness_centrality = nx.closeness_centrality(g)\n",
    "for k, v in closeness_centrality.items():\n",
    "    print(f\"{k}: {v}\")"
   ]
  },
  {
   "cell_type": "code",
   "execution_count": null,
   "metadata": {},
   "outputs": [
    {
     "name": "stdout",
     "output_type": "stream",
     "text": [
      "Average closeness centrality: 0.09523809523809523\n"
     ]
    }
   ],
   "source": [
    "avg_closeness_centrality = sum(list(closeness_centrality.values())) / len(list(closeness_centrality.values()))\n",
    "print(f\"Average closeness centrality: {avg_closeness_centrality}\")"
   ]
  }
 ],
 "metadata": {
  "kernelspec": {
   "display_name": "Python 3.10.5 ('venv': venv)",
   "language": "python",
   "name": "python3"
  },
  "language_info": {
   "codemirror_mode": {
    "name": "ipython",
    "version": 3
   },
   "file_extension": ".py",
   "mimetype": "text/x-python",
   "name": "python",
   "nbconvert_exporter": "python",
   "pygments_lexer": "ipython3",
   "version": "3.10.5"
  },
  "orig_nbformat": 4,
  "vscode": {
   "interpreter": {
    "hash": "48c0fbfdadddefa50fd21038c3451c2b0ef44d02d8057cd409be29a61e67b463"
   }
  }
 },
 "nbformat": 4,
 "nbformat_minor": 2
}
